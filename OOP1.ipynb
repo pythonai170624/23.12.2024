{
 "cells": [
  {
   "cell_type": "code",
   "execution_count": 25,
   "id": "87bd2746-f918-4c8d-8e1a-1511404ba406",
   "metadata": {},
   "outputs": [
    {
     "data": {
      "text/plain": [
       "'Toyota'"
      ]
     },
     "execution_count": 25,
     "metadata": {},
     "output_type": "execute_result"
    }
   ],
   "source": [
    "class Car:\n",
    "    # data\n",
    "    type = 'Toyota'\n",
    "    \n",
    "    # func\n",
    "    def go():\n",
    "        print('car go')\n",
    "\n",
    "# type(Car)\n",
    "# toyota = { 'type': \"Toyota\", 'model': \"RAV-4\", 'color': \"Black\", 'speed':  180,\n",
    "#          'go': print}\n",
    "\n",
    "# subaru = { 'model': \"RAV-4\", 'color': \"Black\", 'speed':  'b',\n",
    "#          'go': print}\n",
    "\n",
    "Car.type\n",
    "Car.go()\n",
    "\n",
    "# create class called MobilePhone\n",
    "# create data: brand, model, color, battery\n",
    "# create function called: ring -- print \"ring ring\"\n",
    "# print all attributes values:i.e. print(MobilePhone.brand)\n",
    "# execute ring function\n",
    "Car.__dict__\n",
    "\n"
   ]
  },
  {
   "cell_type": "code",
   "execution_count": 31,
   "id": "0ebd4f2b-831e-4f2d-89bf-3dde988630fa",
   "metadata": {},
   "outputs": [
    {
     "name": "stdout",
     "output_type": "stream",
     "text": [
      "brand IPhone\n",
      "model 16 Pro\n",
      "color white\n",
      "battery 79\n",
      "ring ring\n"
     ]
    },
    {
     "data": {
      "text/plain": [
       "mappingproxy({'__module__': '__main__',\n",
       "              'brand': 'IPhone',\n",
       "              'model': '16 Pro',\n",
       "              'color': 'white',\n",
       "              'battery': 79,\n",
       "              'ring': <function __main__.MobilePhone.ring()>,\n",
       "              '__dict__': <attribute '__dict__' of 'MobilePhone' objects>,\n",
       "              '__weakref__': <attribute '__weakref__' of 'MobilePhone' objects>,\n",
       "              '__doc__': None})"
      ]
     },
     "execution_count": 31,
     "metadata": {},
     "output_type": "execute_result"
    }
   ],
   "source": [
    "# create class called MobilePhone\n",
    "# create data: brand, model, color, battery\n",
    "# create function called: ring -- print \"ring ring\"\n",
    "# print all attributes values:i.e. print(MobilePhone.brand)\n",
    "# execute ring function\n",
    "class MobilePhone: # \"static\" \n",
    "    brand = \"IPhone\"\n",
    "    model = \"16 Pro\"\n",
    "    color = \"white\"\n",
    "    battery = 79\n",
    "    def ring():\n",
    "        print(\"ring ring\")\n",
    "\n",
    "print('brand', MobilePhone.brand)\n",
    "print('model', MobilePhone.model)\n",
    "print('color', MobilePhone.color)\n",
    "print('battery', MobilePhone.battery)\n",
    "MobilePhone.ring()\n",
    "\n",
    "MobilePhone.__dict__\n",
    "    "
   ]
  },
  {
   "cell_type": "code",
   "execution_count": 53,
   "id": "7533794a-30e3-4ffe-9e16-397ae497acbb",
   "metadata": {},
   "outputs": [
    {
     "name": "stdout",
     "output_type": "stream",
     "text": [
      "__init__ is running\n",
      "IPhone\n",
      "{'brand': 'IPhone', 'model': '16 PRO', 'color': 'white', 'battery': 79}\n",
      "IPhone 16 PRO is ringing\n",
      "__init__ is running\n",
      "{'brand': 'Galaxy', 'model': 'S20', 'color': 'Black', 'battery': 100}\n",
      "Galaxy S20 is ringing\n"
     ]
    }
   ],
   "source": [
    "# \"factory\" for producing phones... (not DP)\n",
    "class MobilePhone:   \n",
    "    def __init__(self, brand, model, color, battery=100, is_vip:bool=False): # ctor\n",
    "        print('__init__ is running')  # will run every time i create a new phone\n",
    "        self.brand = brand  # this variable will stay in the mobile phone...\n",
    "        self.model = model\n",
    "        self.color = color\n",
    "        self.battery = battery\n",
    "    def ring(self):\n",
    "        print(f'{self.brand} {self.model} is ringing')\n",
    "\n",
    "my_iphone = MobilePhone('IPhone', '16 PRO', 'white', 79)  # new devicde created. __init__ is called auto\n",
    "print(my_iphone.brand)\n",
    "print(my_iphone.__dict__)\n",
    "my_iphone.ring()\n",
    "\n",
    "friend_galaxy = MobilePhone('Galaxy', 'S20', 'Black')  # new devicde created. __init__ is called auto\n",
    "print(friend_galaxy.__dict__)\n",
    "friend_galaxy.ring()"
   ]
  },
  {
   "cell_type": "code",
   "execution_count": 56,
   "id": "5c005137-c918-4a0f-aac7-791d31e6c10d",
   "metadata": {},
   "outputs": [
    {
     "name": "stdout",
     "output_type": "stream",
     "text": [
      "{'account_number': 385922, 'balance': 100000, 'client_name': 'moshe cohen', 'is_vip': True}\n",
      "deposited 3999\n",
      "{'account_number': 385922, 'balance': 103999, 'client_name': 'moshe cohen', 'is_vip': True}\n",
      "{'account_number': 976534, 'balance': 20000, 'client_name': 'shiry tavori', 'is_vip': False}\n",
      "withdrawed 2287\n",
      "{'account_number': 976534, 'balance': 17713, 'client_name': 'shiry tavori', 'is_vip': False}\n"
     ]
    }
   ],
   "source": [
    "# create class called BankAccount\n",
    "# properties: account_number, balance, client_name, is_vip [bool]\n",
    "# implement __init__\n",
    "# create functions: deposit(self, amount) , withdraw(self, amount)\n",
    "# create 2 bank accounts\n",
    "# print the account.__dict__\n",
    "class BankAccount:\n",
    "    def __init__(self, account_number, balance, client_name, is_vip = False):\n",
    "        self.account_number = account_number\n",
    "        self.balance = balance\n",
    "        self.client_name = client_name\n",
    "        self.is_vip = is_vip\n",
    "    def deposit(self, amount):\n",
    "        self.balance += amount\n",
    "        print(f\"deposited {amount}\")\n",
    "    def withdraw(self, amount):\n",
    "        self.balance -= amount\n",
    "        print(f\"withdrawed {amount}\")\n",
    "\n",
    "customer_moshe = BankAccount(385922, 100000, 'moshe cohen', True)\n",
    "customer_shiry = BankAccount(976534, 20000, 'shiry tavori', False)\n",
    "print(customer_moshe.__dict__)\n",
    "customer_moshe.deposit(3999)\n",
    "print(customer_moshe.__dict__)\n",
    "print(customer_shiry.__dict__)\n",
    "customer_shiry.withdraw(2287)\n",
    "print(customer_shiry.__dict__)"
   ]
  },
  {
   "cell_type": "code",
   "execution_count": 76,
   "id": "fc502bae-19b3-43dc-811a-7026a5da89fa",
   "metadata": {},
   "outputs": [
    {
     "name": "stdout",
     "output_type": "stream",
     "text": [
      "2024-12-23 14:31:07.049516-05:00\n",
      "2024-12-23 21:31:07.049516+02:00\n",
      "2024-12-23 21:31:07.049516+02:00\n"
     ]
    }
   ],
   "source": [
    "from datetime import datetime\n",
    "from zoneinfo import ZoneInfo\n",
    "from tzlocal import get_localzone \n",
    "\n",
    "class TimeRecorder:\n",
    "    \n",
    "    def __init__(self):\n",
    "        # Encapsulation\n",
    "        # hide field\n",
    "        self.__start_time = datetime.now(ZoneInfo(\"UTC\"))\n",
    "        \n",
    "    def get_start_time_zone(self, timezone):\n",
    "        return self.__start_time.astimezone(ZoneInfo(timezone))\n",
    "\n",
    "    def get_start_time_myzone(self):\n",
    "        return self.__start_time.astimezone(get_localzone())\n",
    "\n",
    "save_time = TimeRecorder()\n",
    "#print(save_time.__start_time)  # Error\n",
    "#print(save_time._TimeRecorder__start_time)  # bypass 1 -- access from here\n",
    "#print(save_time.__dict__)  # bypass 2 -- access from here\n",
    "print(save_time.get_start_time_zone('America/New_York'))\n",
    "print(save_time.get_start_time_zone('Asia/Jerusalem'))\n",
    "print(save_time.get_start_time_myzone())"
   ]
  }
 ],
 "metadata": {
  "kernelspec": {
   "display_name": "Python 3 (ipykernel)",
   "language": "python",
   "name": "python3"
  },
  "language_info": {
   "codemirror_mode": {
    "name": "ipython",
    "version": 3
   },
   "file_extension": ".py",
   "mimetype": "text/x-python",
   "name": "python",
   "nbconvert_exporter": "python",
   "pygments_lexer": "ipython3",
   "version": "3.11.7"
  }
 },
 "nbformat": 4,
 "nbformat_minor": 5
}
